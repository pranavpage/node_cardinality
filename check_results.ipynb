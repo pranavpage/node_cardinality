{
 "cells": [
  {
   "cell_type": "code",
   "execution_count": 2,
   "metadata": {},
   "outputs": [],
   "source": [
    "import numpy as np\n",
    "import matplotlib.pyplot as plt \n",
    "from tensorflow.keras.models import load_model\n",
    "import tensorflow as tf"
   ]
  },
  {
   "cell_type": "code",
   "execution_count": 16,
   "metadata": {},
   "outputs": [
    {
     "data": {
      "text/plain": [
       "array([[0.93955172, 0.4031589 , 0.57295663, 0.84276052, 0.19432551],\n",
       "       [0.16304617, 0.10473115, 0.51156496, 0.34231534, 0.5358423 ],\n",
       "       [0.75921663, 0.53074215, 0.50795691, 0.94189619, 0.67734931],\n",
       "       [0.28466914, 0.273428  , 0.42070199, 0.31241544, 0.35004258],\n",
       "       [0.5548748 , 0.91010418, 0.23377116, 0.69619461, 0.91498001],\n",
       "       [0.70583738, 0.76509198, 0.78863886, 0.8974992 , 0.81361337],\n",
       "       [0.75938893, 0.21352294, 0.51463084, 0.96512648, 0.58484229],\n",
       "       [0.39877024, 0.2524426 , 0.48590454, 0.10296694, 0.6462742 ],\n",
       "       [0.7507506 , 0.32528288, 0.66503956, 0.13019906, 0.33479805],\n",
       "       [0.26515066, 0.37056651, 0.14347594, 0.14130264, 0.67504609]])"
      ]
     },
     "execution_count": 16,
     "metadata": {},
     "output_type": "execute_result"
    }
   ],
   "source": [
    "a = np.random.rand(10, 5)\n",
    "a"
   ]
  },
  {
   "cell_type": "code",
   "execution_count": 20,
   "metadata": {},
   "outputs": [],
   "source": [
    "a_row = a[0, :]\n",
    "a_row = np.reshape(a_row, (1, 5))"
   ]
  },
  {
   "cell_type": "code",
   "execution_count": 21,
   "metadata": {},
   "outputs": [
    {
     "data": {
      "text/plain": [
       "<tf.Tensor: shape=(1, 5), dtype=float64, numpy=array([[0.93955172, 0.4031589 , 0.57295663, 0.84276052, 0.19432551]])>"
      ]
     },
     "execution_count": 21,
     "metadata": {},
     "output_type": "execute_result"
    }
   ],
   "source": [
    "at = tf.constant(a_row)\n",
    "at"
   ]
  },
  {
   "cell_type": "code",
   "execution_count": 26,
   "metadata": {},
   "outputs": [
    {
     "data": {
      "text/plain": [
       "<tf.Tensor: shape=(1, 4), dtype=float64, numpy=array([[0.93955172, 0.4031589 , 0.57295663, 0.84276052]])>"
      ]
     },
     "execution_count": 26,
     "metadata": {},
     "output_type": "execute_result"
    }
   ],
   "source": [
    "bt = at[:, :4]\n",
    "bt"
   ]
  },
  {
   "cell_type": "code",
   "execution_count": 31,
   "metadata": {},
   "outputs": [
    {
     "data": {
      "text/plain": [
       "<tf.Tensor: shape=(1, 3), dtype=float64, numpy=array([[0.93955172, 0.4031589 , 0.57295663]])>"
      ]
     },
     "execution_count": 31,
     "metadata": {},
     "output_type": "execute_result"
    }
   ],
   "source": [
    "xt = at[:, :3]\n",
    "xt\n"
   ]
  },
  {
   "cell_type": "code",
   "execution_count": 34,
   "metadata": {},
   "outputs": [],
   "source": [
    "yt = at[:, 4]\n",
    "yt = tf.reshape(yt, [1,1])"
   ]
  },
  {
   "cell_type": "code",
   "execution_count": 35,
   "metadata": {},
   "outputs": [
    {
     "data": {
      "text/plain": [
       "<tf.Tensor: shape=(1, 4), dtype=float64, numpy=array([[0.93955172, 0.4031589 , 0.57295663, 0.19432551]])>"
      ]
     },
     "execution_count": 35,
     "metadata": {},
     "output_type": "execute_result"
    }
   ],
   "source": [
    "tf.concat([xt, yt], 1)"
   ]
  },
  {
   "cell_type": "code",
   "execution_count": 41,
   "metadata": {},
   "outputs": [],
   "source": [
    "model = load_model(\"./models/model_two_l50_j5_n5000_r0/\")"
   ]
  },
  {
   "cell_type": "code",
   "execution_count": 42,
   "metadata": {},
   "outputs": [],
   "source": [
    "bm1 = [[0.1953125,  0.390625,   0.5859375,  0. ,        0.390625,   0.1953125,\n",
    "  0.1953125,  0.5859375,  0.5859375,  0.1953125,  0.390625,   0.1953125,\n",
    "  0.390625,   0.1953125,  0.1953125,  0.390625,   0.1953125,  0.,\n",
    "  0.390625,   0.1953125,  0.390625,   0.390625,   0.5859375,  0.,\n",
    "  0.390625,   0.1953125,  0.78125,    0.390625,   0.5859375,  0.,\n",
    "  0.390625,   0.390625,   0.,         0.390625,   0.1953125,  0.,\n",
    "  0.1953125,  0.1953125,  0.,         0.1953125,  0.390625,   0.,\n",
    "  0.5859375,  0.,         0.1953125,  0.,         0.1953125,  0.1953125,\n",
    "  0.1953125,  0.,        0.50212502, 0.47221244]]"
   ]
  },
  {
   "cell_type": "code",
   "execution_count": 43,
   "metadata": {},
   "outputs": [
    {
     "name": "stdout",
     "output_type": "stream",
     "text": [
      "1/1 [==============================] - 0s 182ms/step\n"
     ]
    },
    {
     "data": {
      "text/plain": [
       "array([[0.3901256]], dtype=float32)"
      ]
     },
     "execution_count": 43,
     "metadata": {},
     "output_type": "execute_result"
    }
   ],
   "source": [
    "model.predict(bm1)"
   ]
  }
 ],
 "metadata": {
  "kernelspec": {
   "display_name": "Python 3.10.8 ('node_c')",
   "language": "python",
   "name": "python3"
  },
  "language_info": {
   "codemirror_mode": {
    "name": "ipython",
    "version": 3
   },
   "file_extension": ".py",
   "mimetype": "text/x-python",
   "name": "python",
   "nbconvert_exporter": "python",
   "pygments_lexer": "ipython3",
   "version": "3.10.8"
  },
  "orig_nbformat": 4,
  "vscode": {
   "interpreter": {
    "hash": "0e88dd19d3920ba447ed5d221c7743d66da688a4a7d6b92996e4ba5ccd589cba"
   }
  }
 },
 "nbformat": 4,
 "nbformat_minor": 2
}
