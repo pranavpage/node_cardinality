{
 "cells": [
  {
   "cell_type": "code",
   "execution_count": 2,
   "metadata": {},
   "outputs": [
    {
     "name": "stderr",
     "output_type": "stream",
     "text": [
      "2023-02-16 12:06:02.423579: I tensorflow/core/platform/cpu_feature_guard.cc:193] This TensorFlow binary is optimized with oneAPI Deep Neural Network Library (oneDNN) to use the following CPU instructions in performance-critical operations:  SSE4.1 SSE4.2 AVX AVX2 FMA\n",
      "To enable them in other operations, rebuild TensorFlow with the appropriate compiler flags.\n"
     ]
    }
   ],
   "source": [
    "import numpy as np\n",
    "import matplotlib.pyplot as plt \n",
    "from tensorflow.keras.models import load_model"
   ]
  },
  {
   "cell_type": "code",
   "execution_count": 41,
   "metadata": {},
   "outputs": [],
   "source": [
    "model = load_model(\"./models/model_two_l50_j5_n5000_r0/\")"
   ]
  },
  {
   "cell_type": "code",
   "execution_count": 42,
   "metadata": {},
   "outputs": [],
   "source": [
    "bm1 = [[0.1953125,  0.390625,   0.5859375,  0. ,        0.390625,   0.1953125,\n",
    "  0.1953125,  0.5859375,  0.5859375,  0.1953125,  0.390625,   0.1953125,\n",
    "  0.390625,   0.1953125,  0.1953125,  0.390625,   0.1953125,  0.,\n",
    "  0.390625,   0.1953125,  0.390625,   0.390625,   0.5859375,  0.,\n",
    "  0.390625,   0.1953125,  0.78125,    0.390625,   0.5859375,  0.,\n",
    "  0.390625,   0.390625,   0.,         0.390625,   0.1953125,  0.,\n",
    "  0.1953125,  0.1953125,  0.,         0.1953125,  0.390625,   0.,\n",
    "  0.5859375,  0.,         0.1953125,  0.,         0.1953125,  0.1953125,\n",
    "  0.1953125,  0.,        0.50212502, 0.47221244]]"
   ]
  },
  {
   "cell_type": "code",
   "execution_count": 43,
   "metadata": {},
   "outputs": [
    {
     "name": "stdout",
     "output_type": "stream",
     "text": [
      "1/1 [==============================] - 0s 182ms/step\n"
     ]
    },
    {
     "data": {
      "text/plain": [
       "array([[0.3901256]], dtype=float32)"
      ]
     },
     "execution_count": 43,
     "metadata": {},
     "output_type": "execute_result"
    }
   ],
   "source": [
    "model.predict(bm1)"
   ]
  }
 ],
 "metadata": {
  "kernelspec": {
   "display_name": "Python 3.10.8 ('node_c')",
   "language": "python",
   "name": "python3"
  },
  "language_info": {
   "codemirror_mode": {
    "name": "ipython",
    "version": 3
   },
   "file_extension": ".py",
   "mimetype": "text/x-python",
   "name": "python",
   "nbconvert_exporter": "python",
   "pygments_lexer": "ipython3",
   "version": "3.10.8"
  },
  "orig_nbformat": 4,
  "vscode": {
   "interpreter": {
    "hash": "0e88dd19d3920ba447ed5d221c7743d66da688a4a7d6b92996e4ba5ccd589cba"
   }
  }
 },
 "nbformat": 4,
 "nbformat_minor": 2
}
