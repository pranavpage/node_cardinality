{
 "cells": [
  {
   "cell_type": "code",
   "execution_count": 59,
   "metadata": {},
   "outputs": [],
   "source": [
    "import numpy as np \n",
    "import tensorflow as tf\n",
    "from tensorflow.keras.models import Sequential, load_model\n",
    "from tensorflow.keras.layers import Dense, Layer, Lambda, InputLayer\n",
    "from tensorflow.keras.metrics import mean_squared_error as mse \n",
    "from tensorflow.keras import Model\n",
    "from tensorflow.keras.losses import MeanSquaredError\n",
    "import csv\n",
    "import matplotlib.pyplot as plt \n",
    "fname = \"./data/train_two_l50_j5_n15000_r0.csv\"\n",
    "data = np.genfromtxt(fname, delimiter=',', skip_header=2000)\n",
    "np.random.shuffle(data)\n",
    "test_data = data[-1000:]\n",
    "np.savetxt(\"./data/test_data.csv\", test_data, delimiter=\",\")"
   ]
  },
  {
   "cell_type": "code",
   "execution_count": 60,
   "metadata": {},
   "outputs": [
    {
     "data": {
      "text/plain": [
       "(10517, 54)"
      ]
     },
     "execution_count": 60,
     "metadata": {},
     "output_type": "execute_result"
    }
   ],
   "source": [
    "data.shape"
   ]
  },
  {
   "cell_type": "code",
   "execution_count": 61,
   "metadata": {},
   "outputs": [
    {
     "data": {
      "text/plain": [
       "array([0.390625  , 0.1953125 , 0.        , 0.1953125 , 0.        ,\n",
       "       0.        , 0.        , 0.1953125 , 0.78125   , 0.        ,\n",
       "       0.1953125 , 0.390625  , 0.1953125 , 0.        , 0.        ,\n",
       "       0.        , 0.        , 0.390625  , 0.        , 0.        ,\n",
       "       0.        , 0.390625  , 0.        , 0.        , 0.        ,\n",
       "       0.        , 0.78125   , 0.        , 0.        , 0.        ,\n",
       "       0.390625  , 0.1953125 , 0.390625  , 0.        , 0.        ,\n",
       "       0.1953125 , 0.        , 0.1953125 , 0.390625  , 0.1953125 ,\n",
       "       0.390625  , 0.        , 0.1953125 , 0.5859375 , 0.1953125 ,\n",
       "       0.1953125 , 0.390625  , 0.5859375 , 0.1953125 , 0.        ,\n",
       "       0.216774  , 0.14191499, 0.1640625 , 0.17578125])"
      ]
     },
     "execution_count": 61,
     "metadata": {},
     "output_type": "execute_result"
    }
   ],
   "source": [
    "data[0]"
   ]
  },
  {
   "attachments": {},
   "cell_type": "markdown",
   "metadata": {},
   "source": [
    "dataset structure : bm[50]|n_truth_prev[1]|n_truth[1]"
   ]
  },
  {
   "cell_type": "code",
   "execution_count": 62,
   "metadata": {},
   "outputs": [
    {
     "data": {
      "text/plain": [
       "array([0.        , 0.        , 0.390625  , 0.390625  , 0.390625  ,\n",
       "       0.        , 0.1953125 , 0.        , 0.        , 0.1953125 ,\n",
       "       0.390625  , 0.1953125 , 0.1953125 , 0.216774  , 0.        ,\n",
       "       0.        , 0.        , 0.1953125 , 0.1953125 , 0.        ,\n",
       "       0.390625  , 0.390625  , 0.        , 0.        , 0.1953125 ,\n",
       "       0.        , 0.1953125 , 0.78125   , 0.        , 0.1953125 ,\n",
       "       0.1953125 , 0.        , 0.        , 0.390625  , 0.        ,\n",
       "       0.14191499, 0.        , 0.        , 0.1953125 , 0.390625  ,\n",
       "       0.        , 0.1953125 , 0.        , 0.5859375 , 0.390625  ,\n",
       "       0.1953125 , 0.78125   , 0.        , 0.5859375 , 0.        ,\n",
       "       0.        , 0.        , 0.1640625 , 0.17578125])"
      ]
     },
     "execution_count": 62,
     "metadata": {},
     "output_type": "execute_result"
    }
   ],
   "source": [
    "def permute_row(row):\n",
    "    truths = row[-2:]\n",
    "    bm = row[:-2]\n",
    "    permutated_bm = np.random.permutation(bm)\n",
    "    permutated_row = np.append(permutated_bm, truths)\n",
    "    return permutated_row\n",
    "permute_row(data[0])"
   ]
  },
  {
   "cell_type": "code",
   "execution_count": 63,
   "metadata": {},
   "outputs": [
    {
     "data": {
      "text/plain": [
       "array([[0.390625  , 0.1953125 , 0.        , ..., 0.14191499, 0.1640625 ,\n",
       "        0.17578125],\n",
       "       [0.        , 0.        , 0.        , ..., 0.5859375 , 0.1640625 ,\n",
       "        0.17578125],\n",
       "       [0.5859375 , 0.390625  , 0.1953125 , ..., 0.        , 0.1640625 ,\n",
       "        0.17578125],\n",
       "       ...,\n",
       "       [0.390625  , 0.1953125 , 0.        , ..., 0.390625  , 0.37109375,\n",
       "        0.375     ],\n",
       "       [0.        , 0.1953125 , 0.390625  , ..., 0.390625  , 0.37109375,\n",
       "        0.375     ],\n",
       "       [0.1953125 , 0.1953125 , 0.390625  , ..., 0.        , 0.37109375,\n",
       "        0.375     ]])"
      ]
     },
     "execution_count": 63,
     "metadata": {},
     "output_type": "execute_result"
    }
   ],
   "source": [
    "def augment_dataset(train_data, num_permutations=4):\n",
    "    # Adds num_permutations to a sample (num_permutations+1)X the dataset\n",
    "    fname = f\"./data/augment_p{num_permutations}.csv\"\n",
    "    augmented_data = []\n",
    "    for row in train_data:\n",
    "        augmented_data.append(row)\n",
    "        for i in range(num_permutations):\n",
    "            permuted_row = permute_row(row)\n",
    "            augmented_data.append(permuted_row)\n",
    "    np.savetxt(fname, augmented_data, delimiter=\",\")\n",
    "    return np.array(augmented_data)\n",
    "augment_dataset(data)\n"
   ]
  },
  {
   "cell_type": "code",
   "execution_count": 56,
   "metadata": {},
   "outputs": [
    {
     "data": {
      "text/plain": [
       "(52585, 54)"
      ]
     },
     "execution_count": 56,
     "metadata": {},
     "output_type": "execute_result"
    }
   ],
   "source": [
    "augmented_data = np.genfromtxt('./data/augment_p4.csv', delimiter=',')\n",
    "augmented_data.shape"
   ]
  }
 ],
 "metadata": {
  "kernelspec": {
   "display_name": "node_c",
   "language": "python",
   "name": "python3"
  },
  "language_info": {
   "codemirror_mode": {
    "name": "ipython",
    "version": 3
   },
   "file_extension": ".py",
   "mimetype": "text/x-python",
   "name": "python",
   "nbconvert_exporter": "python",
   "pygments_lexer": "ipython3",
   "version": "3.10.8"
  },
  "orig_nbformat": 4
 },
 "nbformat": 4,
 "nbformat_minor": 2
}
