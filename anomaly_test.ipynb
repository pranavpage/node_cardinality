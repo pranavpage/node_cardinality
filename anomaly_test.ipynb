{
 "cells": [
  {
   "cell_type": "code",
   "execution_count": 2,
   "metadata": {},
   "outputs": [],
   "source": [
    "import numpy as np\n",
    "import pydtmc\n",
    "import matplotlib.pyplot as plt"
   ]
  },
  {
   "cell_type": "code",
   "execution_count": 19,
   "metadata": {},
   "outputs": [],
   "source": [
    "def gen_transition_matrix(n, p, q):\n",
    "    # generate TPM for n states\n",
    "    tpm = []\n",
    "    for i in range(n):\n",
    "        row = [0]*(n)\n",
    "        if(i==0):\n",
    "            row[0] = q\n",
    "            row[1] = 1-q \n",
    "        elif(i==n-1):\n",
    "            row[n-2] = 1-q\n",
    "            row[n-1] = q \n",
    "        else:\n",
    "            row[i-1] = 1-p-q\n",
    "            row[i] = q\n",
    "            row[i+1] = p\n",
    "        tpm.append(row)\n",
    "    return tpm\n",
    "states = [str(i) for i in range(3, 20)]\n",
    "tpm = gen_transition_matrix(17, 0.4, 0.2)\n",
    "tpm = np.linalg.matrix_power(tpm, 5)\n",
    "max_num_nodes=20\n",
    "mc = pydtmc.MarkovChain(tpm, states)"
   ]
  },
  {
   "cell_type": "code",
   "execution_count": 21,
   "metadata": {},
   "outputs": [
    {
     "data": {
      "text/plain": [
       "['3',\n",
       " '4',\n",
       " '5',\n",
       " '6',\n",
       " '7',\n",
       " '8',\n",
       " '9',\n",
       " '10',\n",
       " '11',\n",
       " '12',\n",
       " '13',\n",
       " '14',\n",
       " '15',\n",
       " '16',\n",
       " '17',\n",
       " '18',\n",
       " '19']"
      ]
     },
     "execution_count": 21,
     "metadata": {},
     "output_type": "execute_result"
    }
   ],
   "source": [
    "mc.states"
   ]
  },
  {
   "cell_type": "code",
   "execution_count": 24,
   "metadata": {},
   "outputs": [
    {
     "name": "stdout",
     "output_type": "stream",
     "text": [
      "4\n",
      "Anomaly start : 99, current state = 4\n"
     ]
    },
    {
     "ename": "ValidationError",
     "evalue": "The \"steps\" parameter must be greater than or equal to 2.",
     "output_type": "error",
     "traceback": [
      "\u001b[0;31m---------------------------------------------------------------------------\u001b[0m",
      "\u001b[0;31mValidationError\u001b[0m                           Traceback (most recent call last)",
      "Cell \u001b[0;32mIn[24], line 21\u001b[0m\n\u001b[1;32m     19\u001b[0m curr_state \u001b[39m=\u001b[39m \u001b[39m'\u001b[39m\u001b[39m4\u001b[39m\u001b[39m'\u001b[39m\n\u001b[1;32m     20\u001b[0m \u001b[39mprint\u001b[39m(curr_state)\n\u001b[0;32m---> 21\u001b[0m st \u001b[39m=\u001b[39m mc_timeseries(mc, \u001b[39m100\u001b[39;49m, curr_state, \u001b[39m1\u001b[39;49m, \u001b[39m0\u001b[39;49m)\n",
      "Cell \u001b[0;32mIn[24], line 16\u001b[0m, in \u001b[0;36mmc_timeseries\u001b[0;34m(mc, num_iters, curr_state, num_anomalies, seed)\u001b[0m\n\u001b[1;32m     14\u001b[0m     curr_state \u001b[39m=\u001b[39m \u001b[39mstr\u001b[39m(max_num_nodes)\n\u001b[1;32m     15\u001b[0m \u001b[39m# anomalies done\u001b[39;00m\n\u001b[0;32m---> 16\u001b[0m timeseries \u001b[39m=\u001b[39m mc\u001b[39m.\u001b[39;49msimulate(num_iters\u001b[39m-\u001b[39;49mcurr_time, curr_state, seed)\n\u001b[1;32m     17\u001b[0m simulated_timeseries\u001b[39m+\u001b[39m\u001b[39m=\u001b[39mtimeseries\n\u001b[1;32m     18\u001b[0m \u001b[39mreturn\u001b[39;00m simulated_timeseries\n",
      "File \u001b[0;32m~/anaconda3/envs/node_c/lib/python3.10/site-packages/pydtmc/markov_chain.py:1730\u001b[0m, in \u001b[0;36mMarkovChain.simulate\u001b[0;34m(self, steps, initial_state, final_state, output_indices, seed)\u001b[0m\n\u001b[1;32m   1727\u001b[0m     output_indices \u001b[39m=\u001b[39m _validate_boolean(output_indices)\n\u001b[1;32m   1729\u001b[0m \u001b[39mexcept\u001b[39;00m \u001b[39mException\u001b[39;00m \u001b[39mas\u001b[39;00m ex:  \u001b[39m# pragma: no cover\u001b[39;00m\n\u001b[0;32m-> 1730\u001b[0m     \u001b[39mraise\u001b[39;00m _create_validation_error(ex, _ins\u001b[39m.\u001b[39mtrace()) \u001b[39mfrom\u001b[39;00m \u001b[39mNone\u001b[39m\n\u001b[1;32m   1732\u001b[0m value \u001b[39m=\u001b[39m _simulate(\u001b[39mself\u001b[39m, steps, initial_state, final_state, rng)\n\u001b[1;32m   1734\u001b[0m \u001b[39mif\u001b[39;00m \u001b[39mnot\u001b[39;00m output_indices:\n",
      "\u001b[0;31mValidationError\u001b[0m: The \"steps\" parameter must be greater than or equal to 2."
     ]
    }
   ],
   "source": [
    "def mc_timeseries(mc, num_iters, curr_state, num_anomalies, seed):\n",
    "    anomaly_start_times = np.random.choice(num_iters, num_anomalies, replace=False)\n",
    "    curr_time = 0\n",
    "    simulated_timeseries = []\n",
    "    for i in range(num_anomalies):\n",
    "        # start \n",
    "        a_time = anomaly_start_times[i]\n",
    "        print(f\"Anomaly start : {a_time}, current state = {curr_state}\")\n",
    "        timeseries = mc.simulate(steps=9, initial_state=curr_state, seed=seed)\n",
    "        anomaly_sequence = np.linspace(int(timeseries[-1]), max_num_nodes, 5)\n",
    "        anomaly_sequence = [str(int(i)) for i in anomaly_sequence]\n",
    "        simulated_timeseries+=anomaly_sequence\n",
    "        curr_time = a_time\n",
    "        curr_state = str(max_num_nodes)\n",
    "    # anomalies done\n",
    "    timeseries = mc.simulate(num_iters-curr_time, curr_state, seed)\n",
    "    simulated_timeseries+=timeseries\n",
    "    return simulated_timeseries\n",
    "curr_state = '4'\n",
    "print(curr_state)\n",
    "st = mc_timeseries(mc, 100, curr_state, 1, 0)"
   ]
  }
 ],
 "metadata": {
  "kernelspec": {
   "display_name": "node_c",
   "language": "python",
   "name": "python3"
  },
  "language_info": {
   "codemirror_mode": {
    "name": "ipython",
    "version": 3
   },
   "file_extension": ".py",
   "mimetype": "text/x-python",
   "name": "python",
   "nbconvert_exporter": "python",
   "pygments_lexer": "ipython3",
   "version": "3.10.8"
  },
  "orig_nbformat": 4
 },
 "nbformat": 4,
 "nbformat_minor": 2
}
