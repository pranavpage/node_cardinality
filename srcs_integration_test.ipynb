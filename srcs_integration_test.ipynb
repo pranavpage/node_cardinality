{
 "cells": [
  {
   "cell_type": "code",
   "execution_count": 3,
   "metadata": {},
   "outputs": [],
   "source": [
    "import numpy as np\n",
    "from config import *"
   ]
  },
  {
   "cell_type": "code",
   "execution_count": 4,
   "metadata": {},
   "outputs": [],
   "source": [
    "def sim_balls_and_bins(n, p_participate, l):\n",
    "    # simulate a balls-and-bins trial of length l, with probability p_participate with n nodes\n",
    "    # with p_participate, nodes take part in balls-and-bins trial \n",
    "    # choose uniformly from l slots\n",
    "    prob = np.random.rand(n)\n",
    "    trial_list = [[] for i in range(l)]\n",
    "    participating_nodes = [i for i in range(n) if prob[i]<p_participate]\n",
    "    # print(f\"Participating nodes : {participating_nodes}\")\n",
    "    choices = np.random.randint(low=0, high=l, size=len(participating_nodes))\n",
    "    for i in range(len(participating_nodes)):\n",
    "        trial_list[choices[i]].append(participating_nodes[i])\n",
    "    trial_arr = np.array([len(elem) for elem in trial_list])\n",
    "    return trial_arr\n",
    "def est_balls_and_bins(trial_arr,p_participate):\n",
    "    # estimates the number of nodes using number of empty slots\n",
    "    l = len(trial_arr)\n",
    "    z = np.sum((trial_arr==0))\n",
    "    # print(f\"Number of empty slots = {z}\")\n",
    "    if(z):\n",
    "        return np.log(z/l)/(np.log(1-p_participate/l))\n",
    "    else:\n",
    "        print(\"z=0\")\n",
    "        return max_num_nodes\n",
    "def geometric_hash(ID, l):\n",
    "    # l bit nmber ID\n",
    "    str = format(ID, f'0{l}b')\n",
    "    ret_hash = -1\n",
    "    for i in range(l):\n",
    "        if(str[l-1-i]=='0'):\n",
    "            ret_hash = i\n",
    "            break\n",
    "    if(ret_hash==-1):\n",
    "        ret_hash = l-1\n",
    "    return ret_hash\n",
    "def sim_lottery_frame(n, l):\n",
    "    # l = log2(max_num_nodes)\n",
    "    # np.random.seed(seed)\n",
    "    ID_list = np.random.choice(2**l, n, replace=False)\n",
    "    slot_list = [geometric_hash(i, l) for i in ID_list]\n",
    "    trial_arr = [slot_list.count(i) for i in range(l)]\n",
    "    return trial_arr\n",
    "def est_lottery_frame(trial_arr):\n",
    "    # R = position of rightmost zero in bitmap\n",
    "    l = len(trial_arr)\n",
    "    R = l-1\n",
    "    for i in range(l):\n",
    "        if(trial_arr[i]==0):\n",
    "            R = i\n",
    "            break\n",
    "    return int(1.2897*(2**(R)))"
   ]
  },
  {
   "cell_type": "code",
   "execution_count": 62,
   "metadata": {},
   "outputs": [],
   "source": [
    "def srcs(n, l=length_of_trial, num_lof=5):\n",
    "    # conduct num_lof Lottery Frames, then balls-and-bins\n",
    "    lof_est_arr = []\n",
    "    print(f\"True value = {n:d}\")\n",
    "    for i in range(num_lof):\n",
    "        trial_arr = sim_lottery_frame(n, ID_bits)\n",
    "        est_lof = est_lottery_frame(trial_arr)\n",
    "        # print(f\"Actual = {n}, LoF estimate = {est_lof}\")\n",
    "        lof_est_arr+=[est_lof]\n",
    "    lof_est_arr = np.array(lof_est_arr)\n",
    "    n_lof_est = np.mean(lof_est_arr)\n",
    "    print(f\"Average LoF estimate after {num_lof} trials = {n_lof_est:.2f}\")\n",
    "    p_participate = min(1, 1.6*l/n_lof_est)\n",
    "    trial_arr = sim_balls_and_bins(n, p_participate, l)\n",
    "    srcs_estimate = est_balls_and_bins(trial_arr, p_participate)\n",
    "    print(f\"SRCs estimate with {l:d} slots = {srcs_estimate:.2f}\")\n",
    "    return srcs_estimate"
   ]
  },
  {
   "cell_type": "code",
   "execution_count": 75,
   "metadata": {},
   "outputs": [
    {
     "name": "stdout",
     "output_type": "stream",
     "text": [
      "True value = 100\n",
      "Average LoF estimate after 5 trials = 107.00\n",
      "SRCs estimate with 50 slots = 94.72\n"
     ]
    }
   ],
   "source": [
    "srcs_est = srcs(100)"
   ]
  }
 ],
 "metadata": {
  "kernelspec": {
   "display_name": "node_c",
   "language": "python",
   "name": "python3"
  },
  "language_info": {
   "codemirror_mode": {
    "name": "ipython",
    "version": 3
   },
   "file_extension": ".py",
   "mimetype": "text/x-python",
   "name": "python",
   "nbconvert_exporter": "python",
   "pygments_lexer": "ipython3",
   "version": "3.10.8"
  },
  "orig_nbformat": 4
 },
 "nbformat": 4,
 "nbformat_minor": 2
}
